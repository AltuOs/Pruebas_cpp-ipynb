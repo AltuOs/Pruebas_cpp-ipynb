{
 "cells": [
  {
   "cell_type": "markdown",
   "metadata": {},
   "source": [
    "# No lo olvides \" ; \""
   ]
  },
  {
   "cell_type": "markdown",
   "metadata": {},
   "source": [
    "#### Función que suma dos números"
   ]
  },
  {
   "cell_type": "code",
   "execution_count": 1,
   "metadata": {},
   "outputs": [],
   "source": [
    "%%cpp -d\n",
    "#include <iostream>\n",
    "using namespace std;\n",
    "\n",
    "void sum(int a, int b)\n",
    "{\n",
    "    //int c;\n",
    "    //c=a+b; //No es necesario\n",
    "    cout<<\"Suma de: \"<<a<<\" con número random. Suma: \"<<a+b<<endl<<\"Número random: \"<<b;\n",
    "}\n",
    "\n",
    "//return_type function_name( parameter list )\n",
    "//{\n",
    "//   body of the function\n",
    "//}"
   ]
  },
  {
   "cell_type": "code",
   "execution_count": 2,
   "metadata": {},
   "outputs": [
    {
     "name": "stdout",
     "output_type": "stream",
     "text": [
      "Suma de: 7 con número random. Suma: 259074002\n",
      "Número random: 259073995"
     ]
    }
   ],
   "source": [
    "#include <iostream>\n",
    "using namespace std;\n",
    "\n",
    "sum(7,rand());\n",
    "return 0;"
   ]
  },
  {
   "cell_type": "markdown",
   "metadata": {},
   "source": [
    "#### Función que no retorna valore. Observar el orden."
   ]
  },
  {
   "cell_type": "code",
   "execution_count": 3,
   "metadata": {},
   "outputs": [],
   "source": [
    "%%cpp -d\n",
    "#include <iostream>\n",
    "using namespace std;\n",
    "\n",
    "//Declaración de función\n",
    "void saludo();"
   ]
  },
  {
   "cell_type": "code",
   "execution_count": 5,
   "metadata": {},
   "outputs": [
    {
     "name": "stdout",
     "output_type": "stream",
     "text": [
      "q lo q!\n"
     ]
    }
   ],
   "source": [
    "#include <iostream>\n",
    "using namespace std;\n",
    "\n",
    "saludo(); \n",
    "return 0;"
   ]
  },
  {
   "cell_type": "code",
   "execution_count": 4,
   "metadata": {},
   "outputs": [],
   "source": [
    "//Definición de función\n",
    "void saludo() \n",
    "{\n",
    "    cout << \"q lo q!\" << endl;\n",
    "}"
   ]
  },
  {
   "cell_type": "markdown",
   "metadata": {},
   "source": [
    "aunque no sale así:"
   ]
  },
  {
   "cell_type": "code",
   "execution_count": 6,
   "metadata": {},
   "outputs": [],
   "source": [
    "%%cpp -d\n",
    "#include <iostream>\n",
    "using namespace std;\n",
    "    \n",
    "void saludo2();\n",
    "\n",
    "int main()\n",
    "{\n",
    "    saludo2();\n",
    "    return 0;\n",
    "}\n",
    "\n",
    "void saludo2() \n",
    "{\n",
    "    cout << \"q lo q!\";\n",
    "}"
   ]
  },
  {
   "cell_type": "code",
   "execution_count": null,
   "metadata": {},
   "outputs": [],
   "source": []
  }
 ],
 "metadata": {
  "kernelspec": {
   "display_name": "ROOT C++",
   "language": "c++",
   "name": "root"
  },
  "language_info": {
   "codemirror_mode": "text/x-c++src",
   "file_extension": ".C",
   "mimetype": " text/x-c++src",
   "name": "c++"
  }
 },
 "nbformat": 4,
 "nbformat_minor": 2
}
