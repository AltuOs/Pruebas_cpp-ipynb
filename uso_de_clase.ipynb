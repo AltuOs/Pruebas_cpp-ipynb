{
 "cells": [
  {
   "cell_type": "code",
   "execution_count": 1,
   "metadata": {},
   "outputs": [
    {
     "name": "stdout",
     "output_type": "stream",
     "text": [
      "Hi\n"
     ]
    }
   ],
   "source": [
    "%%cpp -f\n",
    "\n",
    "#include <iostream>\n",
    "#include \"p_clase.h\"\n",
    "using namespace std;\n",
    "\n",
    "//int main(){\n",
    "    BankAccount test;\n",
    "    test.sayHi();\n",
    "//}"
   ]
  }
 ],
 "metadata": {
  "kernelspec": {
   "display_name": "ROOT C++",
   "language": "c++",
   "name": "root"
  },
  "language_info": {
   "codemirror_mode": "text/x-c++src",
   "file_extension": ".C",
   "mimetype": " text/x-c++src",
   "name": "c++"
  }
 },
 "nbformat": 4,
 "nbformat_minor": 2
}
