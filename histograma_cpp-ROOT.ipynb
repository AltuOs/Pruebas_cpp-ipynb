{
 "cells": [
  {
   "cell_type": "code",
   "execution_count": 1,
   "metadata": {},
   "outputs": [],
   "source": [
    "%%cpp -d\n",
    "#include <iostream>\n",
    "using namespace std;\n",
    "\n",
    "int raan()\n",
    "{\n",
    "    return rand();\n",
    "}"
   ]
  },
  {
   "cell_type": "code",
   "execution_count": 2,
   "metadata": {},
   "outputs": [
    {
     "name": "stdout",
     "output_type": "stream",
     "text": [
      "Valor: 476943602"
     ]
    }
   ],
   "source": [
    "#include <iostream>\n",
    "using namespace std;\n",
    "\n",
    "cout << \"Valor: \"<<raan();"
   ]
  },
  {
   "cell_type": "code",
   "execution_count": 3,
   "metadata": {},
   "outputs": [],
   "source": [
    "//%jsroot on"
   ]
  },
  {
   "cell_type": "code",
   "execution_count": 4,
   "metadata": {
    "scrolled": false
   },
   "outputs": [
    {
     "data": {
      "image/png": "[encoded data removed]",
      "text/plain": [
       "<IPython.core.display.Image object>"
      ]
     },
     "metadata": {},
     "output_type": "display_data"
    }
   ],
   "source": [
    "//TCanvas canvas_2_6;\n",
    "//TF1 efunc(\"efunc\",\"exp([0]+[1]*x)\",0.,5.);\n",
    "//efunc.SetParameter(0,1);\n",
    "//efunc.SetParameter(1,-1);\n",
    "//TH1F hist_2_6_1(\"histogram 2.6.1\",\"example histogram\",100,0.,5.);\n",
    "//for (int i=0;i<1000;i++) {hist_2_6_1.Fill(raan());} //NO\n",
    "//for (int i=0;i<1000;i++){hist_2_6_1.Fill(efunc.GetRandom());}\n",
    "//hist_2_6_1.Draw();\n",
    "//canvas_2_6.Draw();\n",
    "\n",
    "TCanvas canvas_2(\"c\",\"c\");\n",
    "TF1 f1(\"f1\",\"sin(raan()+x)/x\",0.,10.);\n",
    "TF1 f2(\"f2\",\"sin(x)/x\",0.,10.);\n",
    "c->Divide(2,1);\n",
    "c->cd(1);f1.Draw();\n",
    "c->cd(2);f2.Draw();\n",
    "canvas_2.Draw();"
   ]
  },
  {
   "cell_type": "code",
   "execution_count": null,
   "metadata": {},
   "outputs": [],
   "source": []
  },
  {
   "cell_type": "code",
   "execution_count": null,
   "metadata": {},
   "outputs": [],
   "source": []
  }
 ],
 "metadata": {
  "kernelspec": {
   "display_name": "ROOT C++",
   "language": "c++",
   "name": "root"
  },
  "language_info": {
   "codemirror_mode": "text/x-c++src",
   "file_extension": ".C",
   "mimetype": " text/x-c++src",
   "name": "c++"
  }
 },
 "nbformat": 4,
 "nbformat_minor": 2
}
